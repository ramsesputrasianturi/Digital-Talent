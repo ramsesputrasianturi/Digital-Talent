{
 "cells": [
  {
   "cell_type": "markdown",
   "metadata": {},
   "source": [
    "# Body Mass Index\n",
    "\n",
    "Nama : Ramses Putra Sianturi\n",
    "Kelas : Big Data - C"
   ]
  },
  {
   "cell_type": "code",
   "execution_count": 17,
   "metadata": {},
   "outputs": [
    {
     "name": "stdout",
     "output_type": "stream",
     "text": [
      "Normal (healthy weight)\n"
     ]
    }
   ],
   "source": [
    "weight = 62 #Weight in KG\n",
    "height = 170 #Height in CM\n",
    "\n",
    "height_in_meter = height / 100 #Height in Meter\n",
    "count_body_mass = weight / height_in_meter ** 2\n",
    "\n",
    "if count_body_mass < 15:    \n",
    "    print(\"Very severely underweight\")\n",
    "elif count_body_mass >= 15 and count_body_mass < 16:\n",
    "    print(\"Severely underweight\")\n",
    "elif count_body_mass >= 16 and count_body_mass < 18.5:\n",
    "    print(\"Underweight\")\n",
    "elif count_body_mass >= 18.5 and count_body_mass < 25:\n",
    "    print(\"Normal (healthy weight)\")\n",
    "elif count_body_mass >= 25 and count_body_mass < 30:\n",
    "    print(\"Overweight\")\n",
    "elif count_body_mass >= 30 and count_body_mass < 35:\n",
    "    print(\"Moderately obese\")\n",
    "elif count_body_mass >= 35 and count_body_mass < 40:\n",
    "    print(\"Severely obese\")\n",
    "else:\n",
    "    print(\"Very severely obese\")"
   ]
  }
 ],
 "metadata": {
  "kernelspec": {
   "display_name": "Python 3",
   "language": "python",
   "name": "python3"
  },
  "language_info": {
   "codemirror_mode": {
    "name": "ipython",
    "version": 3
   },
   "file_extension": ".py",
   "mimetype": "text/x-python",
   "name": "python",
   "nbconvert_exporter": "python",
   "pygments_lexer": "ipython3",
   "version": "3.6.5"
  }
 },
 "nbformat": 4,
 "nbformat_minor": 2
}
